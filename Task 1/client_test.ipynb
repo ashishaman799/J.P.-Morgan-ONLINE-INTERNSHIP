{
 "cells": [
  {
   "cell_type": "code",
   "execution_count": 5,
   "metadata": {},
   "outputs": [
    {
     "name": "stderr",
     "output_type": "stream",
     "text": [
      "..\n",
      "----------------------------------------------------------------------\n",
      "Ran 2 tests in 0.004s\n",
      "\n",
      "OK\n"
     ]
    }
   ],
   "source": [
    "import unittest\n",
    "\n",
    "def getDataPoint(quote):\n",
    "    \"\"\" Produce all of the needed values to generate a datapoint \"\"\"\n",
    "    stock = quote['stock']\n",
    "    bid_price = float(quote['top_bid']['price'])\n",
    "    ask_price = float(quote['top_ask']['price'])\n",
    "    price = (bid_price + ask_price) / 2\n",
    "    return stock, bid_price, ask_price, price\n",
    "\n",
    "class ClientTest(unittest.TestCase):\n",
    "    def test_getDataPoint_calculatePrice(self):\n",
    "        quotes = [\n",
    "            {'top_ask': {'price': 121.2, 'size': 36}, 'timestamp': '2019-02-11 22:06:30.572453', 'top_bid': {'price': 120.48, 'size': 109}, 'id': '0.109974697771', 'stock': 'ABC'},\n",
    "            {'top_ask': {'price': 121.68, 'size': 4}, 'timestamp': '2019-02-11 22:06:30.572453', 'top_bid': {'price': 117.87, 'size': 81}, 'id': '0.109974697771', 'stock': 'DEF'}\n",
    "        ]\n",
    "        for quote in quotes:\n",
    "            stock, bid_price, ask_price, price = getDataPoint(quote)\n",
    "            self.assertEqual(price, (bid_price + ask_price) / 2)\n",
    "\n",
    "    def test_getDataPoint_calculatePriceBidGreaterThanAsk(self):\n",
    "        quotes = [\n",
    "            {'top_ask': {'price': 119.2, 'size': 36}, 'timestamp': '2019-02-11 22:06:30.572453', 'top_bid': {'price': 120.48, 'size': 109}, 'id': '0.109974697771', 'stock': 'ABC'},\n",
    "            {'top_ask': {'price': 121.68, 'size': 4}, 'timestamp': '2019-02-11 22:06:30.572453', 'top_bid': {'price': 117.87, 'size': 81}, 'id': '0.109974697771', 'stock': 'DEF'}\n",
    "        ]\n",
    "        for quote in quotes:\n",
    "            stock, bid_price, ask_price, price = getDataPoint(quote)\n",
    "            self.assertEqual(price, (bid_price + ask_price) / 2)\n",
    "\n",
    "    \"\"\" ------------ Add more unit tests ------------ \"\"\"\n",
    "\n",
    "def run_tests():\n",
    "    unittest.main(argv=['first-arg-is-ignored'], exit=False)\n",
    "\n",
    "# Run the tests\n",
    "run_tests()\n"
   ]
  }
 ],
 "metadata": {
  "kernelspec": {
   "display_name": "Python 3",
   "language": "python",
   "name": "python3"
  },
  "language_info": {
   "codemirror_mode": {
    "name": "ipython",
    "version": 3
   },
   "file_extension": ".py",
   "mimetype": "text/x-python",
   "name": "python",
   "nbconvert_exporter": "python",
   "pygments_lexer": "ipython3",
   "version": "3.12.3"
  }
 },
 "nbformat": 4,
 "nbformat_minor": 2
}
